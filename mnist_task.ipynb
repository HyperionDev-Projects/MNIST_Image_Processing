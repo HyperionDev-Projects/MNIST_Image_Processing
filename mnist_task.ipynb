{
 "cells": [
  {
   "cell_type": "code",
   "execution_count": 14,
   "metadata": {
    "id": "4r6opegAv77K"
   },
   "outputs": [],
   "source": [
    "# Load important libraries\n",
    "import numpy as np\n",
    "import pandas as pd\n",
    "import seaborn as sns\n",
    "\n",
    "import matplotlib.pyplot as plt\n",
    "from sklearn.datasets import load_digits\n",
    "\n",
    "from sklearn.model_selection import train_test_split\n",
    "from sklearn.ensemble import RandomForestClassifier\n",
    "from sklearn.model_selection import GridSearchCV\n",
    "\n",
    "from sklearn.metrics import accuracy_score, precision_score, recall_score, f1_score\n",
    "from sklearn.metrics import confusion_matrix\n",
    "\n",
    "digits = load_digits()"
   ]
  },
  {
   "cell_type": "markdown",
   "metadata": {},
   "source": [
    "# Introduction"
   ]
  },
  {
   "cell_type": "markdown",
   "metadata": {},
   "source": [
    "### MNIST Data Description"
   ]
  },
  {
   "cell_type": "markdown",
   "metadata": {},
   "source": [
    "The MNIST dataset is a widely used dataset in the field of machine learning and computer vision. It consists of a collection of handwritten digits from 0 to 9, captured as grayscale images. The dataset is frequently used as a benchmark for image classification tasks and serves as a common dataset for testing and comparing different machine learning algorithms.\n",
    "\n",
    "The MNIST dataset contains 60,000 training examples and 10,000 test examples. Each image in the dataset has a fixed size of 28x28 pixels, resulting in a total of 784 features. Each pixel value represents the grayscale intensity ranging from 0 (black) to 255 (white). \n",
    "\n",
    "Due to its simplicity and availability, the MNIST dataset has become a standard dataset for developing and evaluating various image classification algorithms, including deep learning models. It provides a useful starting point for beginners in the field of machine learning to learn and experiment with image recognition tasks."
   ]
  },
  {
   "cell_type": "markdown",
   "metadata": {},
   "source": [
    "### Purpose of Classification"
   ]
  },
  {
   "cell_type": "markdown",
   "metadata": {},
   "source": [
    "The goal of the dataset is to classify the handwritten digits correctly based on the image data."
   ]
  },
  {
   "cell_type": "code",
   "execution_count": 2,
   "metadata": {
    "colab": {
     "base_uri": "https://localhost:8080/"
    },
    "executionInfo": {
     "elapsed": 6,
     "status": "ok",
     "timestamp": 1669016029813,
     "user": {
      "displayName": "Bianca Cherkaev",
      "userId": "05472675678669700855"
     },
     "user_tz": -120
    },
    "id": "2AQQkGIpv77b",
    "outputId": "ecd57822-c410-49bb-9bd4-beb3ce2b3c67"
   },
   "outputs": [
    {
     "name": "stdout",
     "output_type": "stream",
     "text": [
      "Image Data Shape (1797, 64)\n",
      "Label Data Shape (1797,)\n"
     ]
    }
   ],
   "source": [
    "# Print to show there are 1797 images (8 by 8 images for a dimensionality of 64)\n",
    "print(\"Image Data Shape\" , digits.data.shape)\n",
    "\n",
    "# Print to show there are 1797 labels (integers from 0-9)\n",
    "print(\"Label Data Shape\", digits.target.shape)"
   ]
  },
  {
   "cell_type": "code",
   "execution_count": 35,
   "metadata": {
    "colab": {
     "base_uri": "https://localhost:8080/",
     "height": 283
    },
    "executionInfo": {
     "elapsed": 521,
     "status": "ok",
     "timestamp": 1669016036599,
     "user": {
      "displayName": "Bianca Cherkaev",
      "userId": "05472675678669700855"
     },
     "user_tz": -120
    },
    "id": "XdGEdpC4v771",
    "outputId": "d7336036-ffc6-4ace-9d75-9790e2bcfceb"
   },
   "outputs": [
    {
     "data": {
      "image/png": "[encoded data removed]",
      "text/plain": [
       "<Figure size 2000x400 with 5 Axes>"
      ]
     },
     "metadata": {},
     "output_type": "display_data"
    }
   ],
   "source": [
    "sz = 5\n",
    "plt.figure(figsize=(20,4))\n",
    "for index, (image, label) in enumerate(zip(digits.data[0:sz], digits.target[0:sz])):\n",
    "    plt.subplot(1, sz, index + 1)\n",
    "    plt.imshow(np.reshape(image, (8,8)), cmap=plt.cm.gray_r)\n",
    "    plt.title('Training: %i\\n' % label, fontsize = 20)"
   ]
  },
  {
   "cell_type": "markdown",
   "metadata": {},
   "source": [
    "# Model Training & Testing Sets"
   ]
  },
  {
   "cell_type": "markdown",
   "metadata": {},
   "source": [
    "The purpose of the train and test sets:\n",
    "- Train data (X_train) and train target (y_train) are used to train a machine learning model.\n",
    "- Test data (X_test) and test target (y_test) are used to evaluate the performance of the trained model on unseen data.\n",
    "- By splitting the dataset into train and test sets, we can estimate how well the model generalizes to new, unseen data."
   ]
  },
  {
   "cell_type": "code",
   "execution_count": 5,
   "metadata": {},
   "outputs": [
    {
     "name": "stdout",
     "output_type": "stream",
     "text": [
      "Train data shape: (1437, 64)\n",
      "Train target shape: (1437,)\n",
      "Test data shape: (360, 64)\n",
      "Test target shape: (360,)\n"
     ]
    }
   ],
   "source": [
    "# Random state\n",
    "r = 42\n",
    "\n",
    "# Split the dataset into training and testing sets\n",
    "X_train, X_test, Y_train, Y_test = train_test_split(digits.data, digits.target, test_size=0.2, random_state=r)\n",
    "\n",
    "# Print the shape of the data arrays\n",
    "print('Train data shape:', X_train.shape)\n",
    "print('Train target shape:', Y_train.shape)\n",
    "print('Test data shape:', X_test.shape)\n",
    "print('Test target shape:', Y_test.shape)"
   ]
  },
  {
   "cell_type": "markdown",
   "metadata": {},
   "source": [
    "# Random Forest Modeling"
   ]
  },
  {
   "cell_type": "code",
   "execution_count": 7,
   "metadata": {},
   "outputs": [
    {
     "name": "stdout",
     "output_type": "stream",
     "text": [
      "Accuracy: 0.9722222222222222\n"
     ]
    }
   ],
   "source": [
    "# Create a RandomForestClassifier model\n",
    "model = RandomForestClassifier(n_estimators=100, random_state=r)\n",
    "\n",
    "# Train the model using the training data\n",
    "model.fit(X_train, Y_train)\n",
    "\n",
    "# Predict the labels for the test data\n",
    "Y_pred = model.predict(X_test)\n",
    "\n",
    "# Evaluate the model's accuracy\n",
    "accuracy = model.score(X_test, Y_test)\n",
    "print('Accuracy:', accuracy)"
   ]
  },
  {
   "cell_type": "markdown",
   "metadata": {},
   "source": [
    "# Parameter Tuning"
   ]
  },
  {
   "cell_type": "markdown",
   "metadata": {},
   "source": [
    "The max_depth parameter will be used for tuning. This parameter has the potential to affect the model's overfitting and underfitting characteristics. This important for datasets that are big such as that for image processing."
   ]
  },
  {
   "cell_type": "code",
   "execution_count": 8,
   "metadata": {},
   "outputs": [
    {
     "name": "stdout",
     "output_type": "stream",
     "text": [
      "Accuracy ensemble: 0.9722222222222222\n",
      "Accuracy: 0.9722222222222222\n",
      "\n",
      "The following tuned parameter will be used on the model below:\n",
      " 20\n"
     ]
    }
   ],
   "source": [
    "# Create a parameter grid of n_estimators and max_depths\n",
    "param_grid = {\n",
    "    'max_depth': [10, 20, 30]\n",
    "}\n",
    "\n",
    "# Create a based model\n",
    "rf = RandomForestClassifier(random_state=r)\n",
    "\n",
    "# Create a GridSearchCV object to obtain best max_depth parameter by passing a RandomForestClassifier\n",
    "grid_search = GridSearchCV(rf, param_grid, cv=5)\n",
    "\n",
    "# Fit the GridSearchCV object to the training data\n",
    "grid_search.fit(X_train, Y_train)\n",
    "\n",
    "# Get the best parameter value\n",
    "best_max_depth = grid_search.best_params_['max_depth']\n",
    "\n",
    "print('Accuracy ensemble:',grid_search.score(X_test, Y_test))\n",
    "\n",
    "# Train the model with the best parameter value\n",
    "best_model = RandomForestClassifier(n_estimators=100, max_depth=best_max_depth, random_state=r)\n",
    "best_model.fit(X_train, Y_train)\n",
    "\n",
    "# Evaluate the best model's accuracy\n",
    "accuracy = best_model.score(X_test, Y_test)\n",
    "print('Accuracy:', accuracy)\n",
    "\n",
    "print('\\nThe following tuned parameter will be used on the model below:\\n', best_max_depth)"
   ]
  },
  {
   "cell_type": "markdown",
   "metadata": {},
   "source": [
    "# Fine Tuned Random Forest"
   ]
  },
  {
   "cell_type": "markdown",
   "metadata": {},
   "source": [
    "The best value for the max_depth obtained from a grid search will be used for testing on the test data. This value was obtained through a rigorous grid search and has been found to be the optimum value. Hence, it will be used to set the max depth of the Rando Forest."
   ]
  },
  {
   "cell_type": "code",
   "execution_count": 11,
   "metadata": {},
   "outputs": [
    {
     "name": "stdout",
     "output_type": "stream",
     "text": [
      "Accuracy: 0.9722222222222222\n",
      "Precision: 0.9740091781393408\n",
      "Recall: 0.9714748820224415\n",
      "F1 Score: 0.9722506113169403\n"
     ]
    }
   ],
   "source": [
    "# Create a RandomForestClassifier with max_depth = best_max_depth\n",
    "rf_model = RandomForestClassifier(max_depth=best_max_depth)\n",
    "\n",
    "# Train the model on the training data\n",
    "rf_model.fit(X_train, Y_train)\n",
    "\n",
    "# Make predictions on the test data\n",
    "Y_pred = rf_model.predict(X_test)"
   ]
  },
  {
   "cell_type": "markdown",
   "metadata": {},
   "source": [
    "# Model Perfomance Evaluation"
   ]
  },
  {
   "cell_type": "code",
   "execution_count": 36,
   "metadata": {},
   "outputs": [
    {
     "name": "stdout",
     "output_type": "stream",
     "text": [
      "Accuracy: 0.9722222222222222\n",
      "Precision: 0.9740091781393408\n",
      "Recall: 0.9714748820224415\n",
      "F1 Score: 0.9722506113169403\n"
     ]
    }
   ],
   "source": [
    "# Evaluate the model's performance on the test data\n",
    "accuracy = accuracy_score(Y_test, Y_pred)\n",
    "precision = precision_score(Y_test, Y_pred, average='macro')\n",
    "recall = recall_score(Y_test, Y_pred, average='macro')\n",
    "f1 = f1_score(Y_test, Y_pred, average='macro')\n",
    "\n",
    "# Print the evaluation metrics\n",
    "print(\"Accuracy:\", accuracy)\n",
    "print(\"Precision:\", precision)\n",
    "print(\"Recall:\", recall)\n",
    "print(\"F1 Score:\", f1)"
   ]
  },
  {
   "cell_type": "markdown",
   "metadata": {},
   "source": [
    "The model generally strugles with the digits 0, 3, 5, 6, 7, 8, and 9.\n",
    "\n",
    "However it strugles the most with digits 5 and 8 where 4% and 10% of the digits were predicted incorrectly respectively."
   ]
  },
  {
   "cell_type": "code",
   "execution_count": 17,
   "metadata": {},
   "outputs": [
    {
     "data": {
      "image/png": "[encoded data removed]",
      "text/plain": [
       "<Figure size 640x480 with 2 Axes>"
      ]
     },
     "metadata": {},
     "output_type": "display_data"
    }
   ],
   "source": [
    "# Calculate the confusion matrix\n",
    "cm = confusion_matrix(Y_test, Y_pred)\n",
    "\n",
    "# Plot the confusion matrix.\n",
    "sns.heatmap(cm,\n",
    "            annot=True,\n",
    "            fmt='g')\n",
    "\n",
    "plt.ylabel('Prediction', fontsize=13)\n",
    "plt.xlabel('Gold / Actual', fontsize=13)\n",
    "plt.title('Confusion Matrix', fontsize=17)\n",
    "plt.show()"
   ]
  }
 ],
 "metadata": {
  "colab": {
   "provenance": []
  },
  "kernelspec": {
   "display_name": "Python 3 (ipykernel)",
   "language": "python",
   "name": "python3"
  },
  "language_info": {
   "codemirror_mode": {
    "name": "ipython",
    "version": 3
   },
   "file_extension": ".py",
   "mimetype": "text/x-python",
   "name": "python",
   "nbconvert_exporter": "python",
   "pygments_lexer": "ipython3",
   "version": "3.11.0"
  }
 },
 "nbformat": 4,
 "nbformat_minor": 1
}
